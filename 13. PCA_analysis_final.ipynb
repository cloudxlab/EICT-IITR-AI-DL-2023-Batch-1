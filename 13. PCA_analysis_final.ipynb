{
  "nbformat": 4,
  "nbformat_minor": 0,
  "metadata": {
    "colab": {
      "provenance": []
    },
    "kernelspec": {
      "name": "python3",
      "display_name": "Python 3"
    },
    "language_info": {
      "name": "python"
    }
  },
  "cells": [
    {
      "cell_type": "markdown",
      "source": [
        "## upload all the necessary files.\n",
        "1.  **numpy :** it is used for numerical operations in Python.\n",
        "2. **pandas** : for data manipulation and analysis.\n",
        "3. **sklearn.decomposition  PCA**: Import the PCA class from scikit-learn for performing Principal Component Analysis.\n",
        "4. **matplotlib**: Import the matplotlib library for creating plots and visualizations.\n",
        "5. **seaborn**: Import the seaborn library for improved data visualization.\n",
        "6. **train_test_split**:  to split the dataset into training and testing sets.\n",
        "7. **DecisionTreeClassifier**: for building a decision tree model.\n",
        "8. **classification_report, accuracy_score, confusion_matrix**: Import metrics for evaluating the classifier's performance."
      ],
      "metadata": {
        "id": "Wgs7HP_kZ9-X"
      }
    },
    {
      "cell_type": "code",
      "execution_count": null,
      "metadata": {
        "id": "fLGY2-YMQdRe"
      },
      "outputs": [],
      "source": [
        "import numpy as np\n",
        "import pandas as pd\n",
        "from sklearn.decomposition import PCA\n",
        "\n",
        "import matplotlib.pyplot as plt\n",
        "import seaborn as sns\n",
        "%matplotlib inline\n",
        "\n",
        "from sklearn.model_selection import train_test_split\n",
        "from sklearn.tree import DecisionTreeClassifier\n",
        "from sklearn.metrics import classification_report,accuracy_score,confusion_matrix"
      ]
    },
    {
      "cell_type": "markdown",
      "source": [
        "# **upload the iris dataset**\n",
        "** Load the Iris dataset into the digits variable.**"
      ],
      "metadata": {
        "id": "0nIWHcNmaLqN"
      }
    },
    {
      "cell_type": "code",
      "source": [
        "from sklearn.datasets import load_iris\n",
        "digits = load_iris()"
      ],
      "metadata": {
        "id": "dLJIv3JiQrhM"
      },
      "execution_count": null,
      "outputs": []
    },
    {
      "cell_type": "markdown",
      "source": [
        "**Create a DataFrame named data1 containing the features of the Iris dataset.**"
      ],
      "metadata": {
        "id": "I86f-A8acO5k"
      }
    },
    {
      "cell_type": "code",
      "source": [
        "data1=pd.DataFrame(digits.data)"
      ],
      "metadata": {
        "id": "cEQW63jkQ3LQ"
      },
      "execution_count": null,
      "outputs": []
    },
    {
      "cell_type": "markdown",
      "source": [
        "**1. Assign the features to the x variable.**\n",
        "**2. Assign the target labels to the y variable.**"
      ],
      "metadata": {
        "id": "ALZbXlIKcwjd"
      }
    },
    {
      "cell_type": "code",
      "source": [
        "x=digits.data\n",
        "y=digits.target"
      ],
      "metadata": {
        "id": "JuFGlv8OQ9_0"
      },
      "execution_count": null,
      "outputs": []
    },
    {
      "cell_type": "markdown",
      "source": [
        "**size of the IRIS dataset**"
      ],
      "metadata": {
        "id": "NDroSexndrmB"
      }
    },
    {
      "cell_type": "code",
      "source": [
        "\n",
        "x.shape"
      ],
      "metadata": {
        "colab": {
          "base_uri": "https://localhost:8080/"
        },
        "id": "PJVpHJrMQ_iq",
        "outputId": "2d3e0be8-a9fc-46f3-e47b-c641828d44af"
      },
      "execution_count": null,
      "outputs": [
        {
          "output_type": "execute_result",
          "data": {
            "text/plain": [
              "(150, 4)"
            ]
          },
          "metadata": {},
          "execution_count": 5
        }
      ]
    },
    {
      "cell_type": "code",
      "source": [
        "y.shape"
      ],
      "metadata": {
        "colab": {
          "base_uri": "https://localhost:8080/"
        },
        "id": "XUmDLkmaRDFv",
        "outputId": "f051fd7f-e3ab-44ff-d6b2-0f41160824a1"
      },
      "execution_count": null,
      "outputs": [
        {
          "output_type": "execute_result",
          "data": {
            "text/plain": [
              "(150,)"
            ]
          },
          "metadata": {},
          "execution_count": 6
        }
      ]
    },
    {
      "cell_type": "markdown",
      "source": [
        "**Standardize the features using 'StandardScaler'.**\n"
      ],
      "metadata": {
        "id": "ABnOjffmd4gx"
      }
    },
    {
      "cell_type": "code",
      "source": [
        "from sklearn.preprocessing import StandardScaler\n",
        "\n",
        "# Data Normalization\n",
        "X_std = StandardScaler().fit_transform(x)"
      ],
      "metadata": {
        "id": "3b3n0HlERIdm"
      },
      "execution_count": null,
      "outputs": []
    },
    {
      "cell_type": "markdown",
      "source": [
        "**The mean vector and covariance matrix for the standardized features.**\n",
        "**eigenvalues and eigenvectors from the covariance matrix.**"
      ],
      "metadata": {
        "id": "YU2hhkK8eKVQ"
      }
    },
    {
      "cell_type": "code",
      "source": [
        "mean_vec = np.mean(X_std, axis=0)\n",
        "print(mean_vec)\n",
        "cov_mat = np.cov(X_std.T)\n",
        "eig_vals, eig_vecs = np.linalg.eig(cov_mat)"
      ],
      "metadata": {
        "id": "lc2JUCS8RNPh",
        "colab": {
          "base_uri": "https://localhost:8080/"
        },
        "outputId": "ba90c8c8-7bb3-4377-9ce4-7d8800004fb4"
      },
      "execution_count": null,
      "outputs": [
        {
          "output_type": "stream",
          "name": "stdout",
          "text": [
            "[-1.69031455e-15 -1.84297022e-15 -1.69864123e-15 -1.40924309e-15]\n"
          ]
        }
      ]
    },
    {
      "cell_type": "code",
      "source": [
        "# Create a list of (eigenvalue, eigenvector) tuples\n",
        "eig_pairs = [ (np.abs(eig_vals[i]),eig_vecs[:,i]) for i in range(len(eig_vals))]"
      ],
      "metadata": {
        "id": "qJQdghtSRSvl"
      },
      "execution_count": null,
      "outputs": []
    },
    {
      "cell_type": "markdown",
      "source": [
        "**Create a list of eigenvalue-eigenvector pairs and sort them in descending order of eigenvalues.**"
      ],
      "metadata": {
        "id": "Oohb0BVRe1XE"
      }
    },
    {
      "cell_type": "code",
      "source": [
        "\n",
        "# Sort from high to low\n",
        "eig_pairs.sort(key = lambda x: x[0], reverse= True)"
      ],
      "metadata": {
        "id": "FbkTDLqJRX4K"
      },
      "execution_count": null,
      "outputs": []
    },
    {
      "cell_type": "markdown",
      "source": [
        "**Calculate individual explained variance and cumulative explained variance from eigenvalues.**"
      ],
      "metadata": {
        "id": "VAIbwcYFfBzv"
      }
    },
    {
      "cell_type": "code",
      "source": [
        "# Calculation of Explained Variance from the eigenvalues\n",
        "tot = sum(eig_vals)\n",
        "var_exp = [(i/tot)*100 for i in sorted(eig_vals, reverse=True)] # Individual explained variance\n",
        "cum_var_exp = np.cumsum(var_exp) # Cumulative explained variance\n",
        "cum_var_exp"
      ],
      "metadata": {
        "colab": {
          "base_uri": "https://localhost:8080/"
        },
        "id": "j5zJTUbiRh56",
        "outputId": "032688eb-5afa-46c2-912d-656e9992f1a7"
      },
      "execution_count": null,
      "outputs": [
        {
          "output_type": "execute_result",
          "data": {
            "text/plain": [
              "array([ 72.96244541,  95.8132072 ,  99.48212909, 100.        ])"
            ]
          },
          "metadata": {},
          "execution_count": 13
        }
      ]
    },
    {
      "cell_type": "markdown",
      "source": [
        "**Create a bar plot of individual and cumulative explained variance.**"
      ],
      "metadata": {
        "id": "SqfHsTp8fWl6"
      }
    },
    {
      "cell_type": "code",
      "source": [
        "\n",
        "plt.figure(figsize=(10, 5))\n",
        "plt.bar(range(len(var_exp)), var_exp, alpha=0.3333, align='center', label='individual explained variance', color = 'g')\n",
        "plt.step(range(len(cum_var_exp)), cum_var_exp, where='mid',label='cumulative explained variance')\n",
        "plt.ylabel('Explained variance ratio')\n",
        "plt.xlabel('Principal components')\n",
        "plt.legend(loc='best')\n",
        "plt.show()"
      ],
      "metadata": {
        "colab": {
          "base_uri": "https://localhost:8080/",
          "height": 465
        },
        "id": "pQ2etvZiRkFL",
        "outputId": "5df9896d-6149-466a-82a7-04bb85978ca3"
      },
      "execution_count": null,
      "outputs": [
        {
          "output_type": "display_data",
          "data": {
            "text/plain": [
              "<Figure size 1000x500 with 1 Axes>"
            ],
            "image/png": "[encoded data removed]"
          },
          "metadata": {}
        }
      ]
    },
    {
      "cell_type": "markdown",
      "source": [
        "**Split the data into training and testing sets using** **train_test_split**."
      ],
      "metadata": {
        "id": "KdLiDD9efb_v"
      }
    },
    {
      "cell_type": "code",
      "source": [
        "\n",
        "x_train,x_test,y_train,y_test=train_test_split(X_std,y)"
      ],
      "metadata": {
        "id": "4UFTlQkLRq1S"
      },
      "execution_count": null,
      "outputs": []
    },
    {
      "cell_type": "markdown",
      "source": [
        "**Create a PCA object with n_components set to 3 and transform the training and testing data using PCA.**"
      ],
      "metadata": {
        "id": "RjNKVPZJfwis"
      }
    },
    {
      "cell_type": "code",
      "source": [
        "#Initiate PCA\n",
        "pca = PCA(n_components=3)\n",
        "pca_x_train = pca.fit_transform(x_train)\n",
        "pca_x_test = pca.transform(x_test)"
      ],
      "metadata": {
        "id": "M7H2pLJCR4dv"
      },
      "execution_count": null,
      "outputs": []
    },
    {
      "cell_type": "markdown",
      "source": [
        "**Create a Decision Tree classifier (rf) and fit it to the PCA-transformed training data.**"
      ],
      "metadata": {
        "id": "EKFKZwCnf3F-"
      }
    },
    {
      "cell_type": "code",
      "source": [
        "rf=DecisionTreeClassifier().fit(pca_x_train,y_train)"
      ],
      "metadata": {
        "id": "ErH5SO1wR9xo"
      },
      "execution_count": null,
      "outputs": []
    },
    {
      "cell_type": "markdown",
      "source": [
        "**Predict the labels using the classifier on the PCA-transformed testing data.**"
      ],
      "metadata": {
        "id": "D6eyqjjhgCeo"
      }
    },
    {
      "cell_type": "code",
      "source": [
        "predicted=rf.predict(pca_x_test)"
      ],
      "metadata": {
        "id": "O4ETCt4oR_Lv"
      },
      "execution_count": null,
      "outputs": []
    },
    {
      "cell_type": "markdown",
      "source": [
        "**The accuracy score of the predicted labels.**"
      ],
      "metadata": {
        "id": "wHhyl5oAgKNM"
      }
    },
    {
      "cell_type": "code",
      "source": [
        "accuracy_score(predicted,y_test)"
      ],
      "metadata": {
        "colab": {
          "base_uri": "https://localhost:8080/"
        },
        "id": "iyoygPrRSGjK",
        "outputId": "c3c7e915-03d1-4618-c029-a16a24c72218"
      },
      "execution_count": null,
      "outputs": [
        {
          "output_type": "execute_result",
          "data": {
            "text/plain": [
              "0.9736842105263158"
            ]
          },
          "metadata": {},
          "execution_count": 30
        }
      ]
    },
    {
      "cell_type": "markdown",
      "source": [
        "**Set the expected variable to the true labels of the testing data.**"
      ],
      "metadata": {
        "id": "xxLtTQoJgak3"
      }
    },
    {
      "cell_type": "code",
      "source": [
        "expected=y_test"
      ],
      "metadata": {
        "id": "rqlvduBbSIwa"
      },
      "execution_count": null,
      "outputs": []
    },
    {
      "cell_type": "markdown",
      "source": [
        "**Create a figure for plotting with specified dimensions and adjustments**\n",
        "**Create a scatter plot to visualize the predicted and actual classes using PCA components**\n"
      ],
      "metadata": {
        "id": "7HKFrknjg37k"
      }
    },
    {
      "cell_type": "code",
      "source": [
        "# Plot the prediction\n",
        "fig = plt.figure(figsize=(6, 6))  # figure size in inches\n",
        "fig.subplots_adjust(left=0, right=1, bottom=0, top=1, hspace=0.05, wspace=0.05)\n",
        "\n",
        "# Plot the prediction\n",
        "plt.figure(figsize=(8, 6))\n",
        "\n",
        "# Plot points colored by predicted class\n",
        "for target, target_name in enumerate(digits.target_names):\n",
        "    plt.scatter(pca_x_test[predicted == target, 0], pca_x_test[predicted == target, 1],\n",
        "                label=f'Predicted: {target_name}')\n",
        "\n",
        "# Plot actual classes as markers\n",
        "for target, target_name in enumerate(digits.target_names):\n",
        "    plt.scatter(pca_x_test[expected == target, 0], pca_x_test[expected == target, 1],\n",
        "                marker='x', s=100, label=f'Actual: {target_name}')\n",
        "\n",
        "plt.xlabel('Principal Component 1')\n",
        "plt.ylabel('Principal Component 2')\n",
        "plt.title('Predicted vs Actual Classes')\n",
        "plt.legend()\n",
        "plt.show()\n"
      ],
      "metadata": {
        "colab": {
          "base_uri": "https://localhost:8080/",
          "height": 581
        },
        "id": "ZTNBABnbTLGC",
        "outputId": "804224de-949f-41ba-9952-7ab977c2ebff"
      },
      "execution_count": null,
      "outputs": [
        {
          "output_type": "display_data",
          "data": {
            "text/plain": [
              "<Figure size 600x600 with 0 Axes>"
            ]
          },
          "metadata": {}
        },
        {
          "output_type": "display_data",
          "data": {
            "text/plain": [
              "<Figure size 800x600 with 1 Axes>"
            ],
            "image/png": "[encoded data removed]"
          },
          "metadata": {}
        }
      ]
    }
  ]
}