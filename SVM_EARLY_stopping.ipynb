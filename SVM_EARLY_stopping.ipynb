{
  "nbformat": 4,
  "nbformat_minor": 0,
  "metadata": {
    "colab": {
      "provenance": []
    },
    "kernelspec": {
      "name": "python3",
      "display_name": "Python 3"
    },
    "language_info": {
      "name": "python"
    }
  },
  "cells": [
    {
      "cell_type": "markdown",
      "source": [
        "**Traditional Support Vector Machines (SVMs) do not directly support the concept of \"early stopping\" as gradient-based algorithms do. However, you can implement a form of early stopping by monitoring the validation performance during training and stopping the training process when certain conditions are met. **"
      ],
      "metadata": {
        "id": "rYbHNtTYXkmc"
      }
    },
    {
      "cell_type": "markdown",
      "source": [
        "**Early stopping criteria on Moon dataset using SVM classifier.**\n",
        "\"tolerance\" parameter to control what constitutes a negligible change in validation accuracy."
      ],
      "metadata": {
        "id": "ch9lrSbLWRtp"
      }
    },
    {
      "cell_type": "code",
      "source": [
        "import numpy as np\n",
        "from sklearn.datasets import make_moons\n",
        "from sklearn.model_selection import train_test_split\n",
        "from sklearn.svm import SVC\n",
        "from sklearn.metrics import accuracy_score\n",
        "\n",
        "# Generate the moon dataset\n",
        "X, y = make_moons(n_samples=1000, noise=0.3, random_state=42)\n",
        "X_train, X_val, y_train, y_val = train_test_split(X, y, test_size=0.2, random_state=42)\n",
        "\n",
        "# Initialize SVM classifier\n",
        "svm_classifier = SVC(kernel='rbf', C=10.0, random_state=42)\n",
        "\n",
        "best_val_accuracy = 0.0\n",
        "best_model = None\n",
        "patience = 10  # Number of epochs to wait before stopping if validation accuracy doesn't improve\n",
        "tolerance = 1e-4  # Tolerance for change in validation accuracy\n",
        "early_stopping_counter = 0\n",
        "\n",
        "for epoch in range(1000):  # You can adjust the number of epochs\n",
        "    svm_classifier.fit(X_train, y_train)\n",
        "    y_val_pred = svm_classifier.predict(X_val)\n",
        "    val_accuracy = accuracy_score(y_val, y_val_pred)\n",
        "\n",
        "    accuracy_change = val_accuracy - best_val_accuracy\n",
        "\n",
        "    if accuracy_change > tolerance:\n",
        "        best_val_accuracy = val_accuracy\n",
        "        best_model = svm_classifier\n",
        "        early_stopping_counter = 0\n",
        "    else:\n",
        "        early_stopping_counter += 1\n",
        "        if early_stopping_counter >= patience:\n",
        "            print(f'Early stopping at epoch {epoch}. Best validation accuracy: {best_val_accuracy:.4f}')\n",
        "            break\n",
        "\n",
        "    print(f'Epoch {epoch+1:3d} - Validation accuracy: {val_accuracy:.4f} - Change: {accuracy_change:.6f}')\n",
        "\n",
        "print(\"Training complete.\")\n"
      ],
      "metadata": {
        "colab": {
          "base_uri": "https://localhost:8080/"
        },
        "id": "7sAiEwD9Vy-6",
        "outputId": "4d65e7ed-b73d-4a9c-d455-7d61429f01a0"
      },
      "execution_count": null,
      "outputs": [
        {
          "output_type": "stream",
          "name": "stdout",
          "text": [
            "Epoch   1 - Validation accuracy: 0.9200 - Change: 0.920000\n",
            "Epoch   2 - Validation accuracy: 0.9200 - Change: 0.000000\n",
            "Epoch   3 - Validation accuracy: 0.9200 - Change: 0.000000\n",
            "Epoch   4 - Validation accuracy: 0.9200 - Change: 0.000000\n",
            "Epoch   5 - Validation accuracy: 0.9200 - Change: 0.000000\n",
            "Epoch   6 - Validation accuracy: 0.9200 - Change: 0.000000\n",
            "Epoch   7 - Validation accuracy: 0.9200 - Change: 0.000000\n",
            "Epoch   8 - Validation accuracy: 0.9200 - Change: 0.000000\n",
            "Epoch   9 - Validation accuracy: 0.9200 - Change: 0.000000\n",
            "Epoch  10 - Validation accuracy: 0.9200 - Change: 0.000000\n",
            "Early stopping at epoch 10. Best validation accuracy: 0.9200\n",
            "Training complete.\n"
          ]
        }
      ]
    },
    {
      "cell_type": "markdown",
      "source": [
        "**Early Stopping Criteria on breast cancer dataset** different patience = 5."
      ],
      "metadata": {
        "id": "89a8y2rTW6D3"
      }
    },
    {
      "cell_type": "code",
      "source": [
        "import numpy as np\n",
        "from sklearn.datasets import load_breast_cancer\n",
        "from sklearn.model_selection import train_test_split\n",
        "from sklearn.svm import SVC\n",
        "from sklearn.metrics import accuracy_score\n",
        "\n",
        "# Load the breast cancer dataset\n",
        "data = load_breast_cancer()\n",
        "X = data.data\n",
        "y = data.target\n",
        "\n",
        "X_train, X_val, y_train, y_val = train_test_split(X, y, test_size=0.2, random_state=42)\n",
        "\n",
        "# Initialize SVM classifier\n",
        "svm_classifier = SVC(kernel='rbf', C=10.0, random_state=42)\n",
        "\n",
        "best_val_accuracy = 0.0\n",
        "best_model = None\n",
        "patience = 5  # Number of epochs to wait before stopping if validation accuracy doesn't improve\n",
        "tolerance = 1e-4  # Tolerance for change in validation accuracy\n",
        "early_stopping_counter = 0\n",
        "\n",
        "for epoch in range(1000):  # You can adjust the number of epochs\n",
        "    svm_classifier.fit(X_train, y_train)\n",
        "    y_val_pred = svm_classifier.predict(X_val)\n",
        "    val_accuracy = accuracy_score(y_val, y_val_pred)\n",
        "\n",
        "    accuracy_change = val_accuracy - best_val_accuracy\n",
        "\n",
        "    if accuracy_change > tolerance:\n",
        "        best_val_accuracy = val_accuracy\n",
        "        best_model = svm_classifier\n",
        "        early_stopping_counter = 0\n",
        "    else:\n",
        "        early_stopping_counter += 1\n",
        "        if early_stopping_counter >= patience:\n",
        "            print(f'Early stopping at epoch {epoch}. Best validation accuracy: {best_val_accuracy:.4f}')\n",
        "            break\n",
        "\n",
        "    print(f'Epoch {epoch+1:3d} - Validation accuracy: {val_accuracy:.4f} - Change: {accuracy_change:.6f}')\n",
        "\n",
        "print(\"Training complete.\")\n"
      ],
      "metadata": {
        "colab": {
          "base_uri": "https://localhost:8080/"
        },
        "id": "zY1Pg_8qV78m",
        "outputId": "eb331bdd-2efd-4c58-adfa-ff800ae3ad53"
      },
      "execution_count": null,
      "outputs": [
        {
          "output_type": "stream",
          "name": "stdout",
          "text": [
            "Epoch   1 - Validation accuracy: 0.9474 - Change: 0.947368\n",
            "Epoch   2 - Validation accuracy: 0.9474 - Change: 0.000000\n",
            "Epoch   3 - Validation accuracy: 0.9474 - Change: 0.000000\n",
            "Epoch   4 - Validation accuracy: 0.9474 - Change: 0.000000\n",
            "Epoch   5 - Validation accuracy: 0.9474 - Change: 0.000000\n",
            "Early stopping at epoch 5. Best validation accuracy: 0.9474\n",
            "Training complete.\n"
          ]
        }
      ]
    }
  ]
}